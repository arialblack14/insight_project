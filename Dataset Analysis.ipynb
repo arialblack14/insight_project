{
 "cells": [
  {
   "cell_type": "code",
   "execution_count": 76,
   "metadata": {},
   "outputs": [],
   "source": [
    "import scipy.io\n",
    "import matplotlib.pyplot as plt\n",
    "import glob\n",
    "import random\n",
    "import urllib.request\n",
    "import sys\n",
    "import time\n",
    "import os"
   ]
  },
  {
   "cell_type": "markdown",
   "metadata": {},
   "source": [
    "## Download Input Images\n",
    "\n",
    "\n",
    "Image surl are in:\n",
    "    \"[[]EG_code_data[]]_release/data/alldata_urls.txt\"\n",
    "    \n",
    "    \n",
    "Contains mask but no images.\n",
    "Images are listed in the text file\n"
   ]
  },
  {
   "cell_type": "code",
   "execution_count": 114,
   "metadata": {},
   "outputs": [
    {
     "name": "stdout",
     "output_type": "stream",
     "text": [
      "Number of Images downloaded: 50\n",
      "Number of Images downloaded: 100\n",
      "Number of Images downloaded: 150\n",
      "Number of Images downloaded: 200\n",
      "Number of Images downloaded: 250\n",
      "Number of Images downloaded: 300\n",
      "Number of Images downloaded: 350\n",
      "Number of Images downloaded: 400\n",
      "Number of Images downloaded: 450\n",
      "Number of Images downloaded: 500\n",
      "Number of Images downloaded: 550\n",
      "Number of Images downloaded: 600\n",
      "Number of Images downloaded: 650\n",
      "Number of Images downloaded: 700\n",
      "Number of Images downloaded: 750\n",
      "Number of Images downloaded: 800\n",
      "Number of Images downloaded: 850\n",
      "Number of Images downloaded: 900\n",
      "Number of Images downloaded: 950\n",
      "Number of Images downloaded: 1000\n",
      "Number of Images downloaded: 1050\n",
      "Number of Images downloaded: 1100\n",
      "Number of Images downloaded: 1150\n",
      "Number of Images downloaded: 1200\n",
      "Number of Images downloaded: 1250\n",
      "Number of Images downloaded: 1300\n",
      "Number of Images downloaded: 1350\n",
      "Number of Images downloaded: 1400\n",
      "Number of Images downloaded: 1450\n",
      "Number of Images downloaded: 1450\n",
      "Number of Images downloaded: 1500\n",
      "Number of Images downloaded: 1550\n",
      "Number of Images downloaded: 1600\n",
      "Number of Images downloaded: 1650\n",
      "Number of Images downloaded: 1700\n",
      "Number of Images downloaded: 1750\n"
     ]
    }
   ],
   "source": [
    "data_path = \"[[]EG_code_data[]]_release/data\"\n",
    "masks_folder = \"images_mask\"\n",
    "images_folder = \"images\"\n",
    "imgs_urls = \"alldata_urls.txt\"\n",
    "\n",
    "\n",
    "def make_folder(images_folder, data_path):\n",
    "    path2imgs = data_path +\"/\"+ images_folder\n",
    "    path2imgs = path2imgs.replace(\"[]\",\"\")\n",
    "    try:\n",
    "        os.mkdir( path2imgs )\n",
    "    except Exception as e:\n",
    "        print(e)\n",
    "    return path2imgs\n",
    "    \n",
    "        \n",
    "        \n",
    "    \n",
    "def download_images(data_path, images_folder, imgs_urls):\n",
    "    \"\"\"\n",
    "    \n",
    "    \"\"\"\n",
    "    target_folder = make_folder(images_folder, data_path)\n",
    "    ls_urls = data_path +\"/\"+ imgs_urls\n",
    "    ls_urls = ls_urls.replace('[]','').replace('[]','')\n",
    "    ls_images = []\n",
    "    img_counter = 0\n",
    "    with open(ls_urls, \"r\") as handler:\n",
    "        for cnter, line in enumerate(handler):\n",
    "            line = line.strip()\n",
    "            content = line.split(\" \")\n",
    "            fname = content[0]\n",
    "            img_url = content[1]\n",
    "\n",
    "            if \"http://\" in img_url: \n",
    "                ls_images.append(fname)\n",
    "                urllib.request.urlretrieve(img_url, target_folder +\"/\"+ fname)\n",
    "                img_counter += 1\n",
    "            \n",
    "            if img_counter%50 == 0:\n",
    "                print(\"Number of Images downloaded: {}\".format(img_counter) )\n",
    "\n",
    "download_images(data_path, images_dir, imgs_urls)"
   ]
  },
  {
   "cell_type": "code",
   "execution_count": null,
   "metadata": {},
   "outputs": [],
   "source": []
  },
  {
   "cell_type": "code",
   "execution_count": 102,
   "metadata": {},
   "outputs": [
    {
     "ename": "SyntaxError",
     "evalue": "invalid syntax (<ipython-input-102-88071cb6f700>, line 5)",
     "output_type": "error",
     "traceback": [
      "\u001b[0;36m  File \u001b[0;32m\"<ipython-input-102-88071cb6f700>\"\u001b[0;36m, line \u001b[0;32m5\u001b[0m\n\u001b[0;31m    path_images = \"{}/{}\".format(main_path, \"images\"\u001b[0m\n\u001b[0m              ^\u001b[0m\n\u001b[0;31mSyntaxError\u001b[0m\u001b[0;31m:\u001b[0m invalid syntax\n"
     ]
    }
   ],
   "source": [
    "\n",
    "main_path = \"[EG_code_data]_release/data\"\n",
    "\n",
    "path_images_txt = \"{}/{}\".format(main_path, \"alldata_urls.txt\"\n",
    "path_images = \"{}/{}\".format(main_path, \"images\"\n",
    "path_image_target = \"[[]EG_code_data[]]_release/data/*\"\n",
    "\n",
    "folders = glob.glob(\"{}/*\".format(main_path))\n",
    "if path_images in folders:\n",
    "    images = glob.glob(path_images)\n",
    "    if len(images) ==0:\n",
    "       download_images(path_images_txt)         \n",
    "\n",
    "\n",
    "\n",
    "                \n",
    "        \n",
    "        "
   ]
  },
  {
   "cell_type": "markdown",
   "metadata": {},
   "source": [
    "## Visualization Input Image and Mask\n",
    "\n",
    "\n",
    "1. Image tracker filename : `{:4d}_mask.mat`\n",
    "2. Image Mask filename : `{:4d}.mat`\n",
    "\n",
    "\n",
    "As suggested in the manual page, you can modify your pattern and wrap the offending meta characters. Change [ to [[] and ] to []] (single character ranges corresponding to the meta character).\n",
    "\n",
    "\n",
    "https://stackoverflow.com/questions/22055500/python-glob-issues-with-directory-with-in-name"
   ]
  },
  {
   "cell_type": "code",
   "execution_count": 62,
   "metadata": {},
   "outputs": [
    {
     "name": "stdout",
     "output_type": "stream",
     "text": [
      "Dataset Size -- Images 1887 | Labels: 1887\n"
     ]
    }
   ],
   "source": [
    "inputs_folder = \"[[]EG_code_data[]]_release/data/images_tracker\" #\n",
    "\n",
    "\n",
    "labelset_mat = glob.glob(\"{}/*.mat\".format(labels_folder))\n",
    "\n",
    "print(\"Dataset Size -- Images {} | Labels: {}\".format(len(imageset_mat), len(labelset_mat)) )\n",
    "indexes = [i for i in range(len(imageset_mat))]"
   ]
  },
  {
   "cell_type": "code",
   "execution_count": 65,
   "metadata": {},
   "outputs": [
    {
     "name": "stdout",
     "output_type": "stream",
     "text": [
      "{'tracker': array([[155.71144, 229.84354],\n",
      "       [166.16357, 217.73389],\n",
      "       [182.0119 , 212.65579],\n",
      "       [198.9175 , 212.23383],\n",
      "       [213.95311, 218.22655],\n",
      "       [274.5226 , 201.97708],\n",
      "       [296.3299 , 193.59961],\n",
      "       [319.34814, 191.53659],\n",
      "       [341.97565, 199.03091],\n",
      "       [358.34595, 213.99207],\n",
      "       [246.44513, 244.36389],\n",
      "       [246.32056, 268.73703],\n",
      "       [246.10736, 291.96875],\n",
      "       [245.71718, 315.74432],\n",
      "       [228.6317 , 337.12827],\n",
      "       [240.65352, 341.7254 ],\n",
      "       [253.3532 , 342.95712],\n",
      "       [270.85278, 338.53714],\n",
      "       [286.1607 , 331.16617],\n",
      "       [180.30374, 258.30124],\n",
      "       [192.39178, 247.79791],\n",
      "       [207.38112, 246.69458],\n",
      "       [221.60811, 254.74449],\n",
      "       [207.92111, 260.83014],\n",
      "       [193.29605, 262.86136],\n",
      "       [289.15848, 247.462  ],\n",
      "       [301.69724, 234.37294],\n",
      "       [317.96698, 231.34325],\n",
      "       [333.72284, 239.437  ],\n",
      "       [320.1145 , 246.87201],\n",
      "       [304.65146, 248.97906],\n",
      "       [211.71906, 370.17743],\n",
      "       [226.60977, 365.2849 ],\n",
      "       [242.98796, 362.19397],\n",
      "       [260.5863 , 362.78265],\n",
      "       [284.96027, 357.0506 ],\n",
      "       [309.7631 , 356.1454 ],\n",
      "       [334.7867 , 358.01276],\n",
      "       [320.0144 , 383.3083 ],\n",
      "       [298.74603, 404.44302],\n",
      "       [269.3451 , 414.2126 ],\n",
      "       [244.3365 , 409.18115],\n",
      "       [226.77856, 390.95444],\n",
      "       [240.6554 , 374.78986],\n",
      "       [264.13342, 375.60773],\n",
      "       [296.81998, 367.7536 ],\n",
      "       [303.0739 , 383.69943],\n",
      "       [268.73065, 395.32913],\n",
      "       [240.63116, 389.08868]], dtype=float32), '__header__': b'MATLAB 5.0 MAT-file, Platform: PCWIN64, Created on: Wed Aug 12 05:59:53 2015', '__version__': '1.0', '__globals__': []}\n"
     ]
    }
   ],
   "source": [
    "img_mat = scipy.io.loadmat( imageset_mat[0] )\n",
    "print(img_mat)"
   ]
  },
  {
   "cell_type": "code",
   "execution_count": 10,
   "metadata": {},
   "outputs": [
    {
     "data": {
      "image/png": "[encoded data removed]",
      "text/plain": [
       "<matplotlib.figure.Figure at 0x107f6fcc0>"
      ]
     },
     "metadata": {},
     "output_type": "display_data"
    }
   ],
   "source": [
    "n_examples = 10\n",
    "\n",
    "sel_idx = np.random.choice(indexes, n_examples)\n",
    "\n",
    "for idx in self_idx\n",
    "    img_mat = scipy.io.loadmat( imageset_mat[idx] )\n",
    "    img = img_mat[\"mask\"]\n",
    "    img_mat = scipy.io.loadmat( imageset_mat[idx] )\n",
    "    im1 = plt.imshow(Z1, cmap=plt.cm.gray, interpolation='nearest',\n",
    "                 extent=extent)\n",
    "\n",
    "Z2 = func3(X, Y)\n",
    "\n",
    "im2 = plt.imshow(Z2, cmap=plt.cm.viridis, alpha=.9, interpolation='bilinear',\n",
    "                 extent=extent)\n",
    "    plt.imshow(mask, cmap=\"gray\")\n",
    "    plt.show()"
   ]
  },
  {
   "cell_type": "code",
   "execution_count": null,
   "metadata": {},
   "outputs": [],
   "source": []
  }
 ],
 "metadata": {
  "anaconda-cloud": {},
  "kernelspec": {
   "display_name": "Python [default]",
   "language": "python",
   "name": "python3"
  },
  "language_info": {
   "codemirror_mode": {
    "name": "ipython",
    "version": 3
   },
   "file_extension": ".py",
   "mimetype": "text/x-python",
   "name": "python",
   "nbconvert_exporter": "python",
   "pygments_lexer": "ipython3",
   "version": "3.5.2"
  }
 },
 "nbformat": 4,
 "nbformat_minor": 1
}
